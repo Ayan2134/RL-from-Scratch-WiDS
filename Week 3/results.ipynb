{
 "cells": [
  {
   "attachments": {},
   "cell_type": "markdown",
   "metadata": {},
   "source": [
    "# Analysis\n",
    "\n",
    "Train the various algorithms and show your results. \n",
    "\n",
    "You must plot the reward obtained by your agent per step and the total regret accumulated so far.\n",
    "\n",
    "This one is an open ended assignment, so feel free to play around. Extra credit for more beautiful plots (you can check out Seaborn). "
   ]
  }
 ],
 "metadata": {
  "kernelspec": {
   "display_name": "base",
   "language": "python",
   "name": "python3"
  },
  "language_info": {
   "codemirror_mode": {
    "name": "ipython",
    "version": 3
   },
   "file_extension": ".py",
   "mimetype": "text/x-python",
   "name": "python",
   "nbconvert_exporter": "python",
   "pygments_lexer": "ipython3",
   "version": "3.10.8"
  },
  "orig_nbformat": 4,
  "vscode": {
   "interpreter": {
    "hash": "79fd35427a01802aacfb9581eccbeacc604f5737badae977bb654119f60accbe"
   }
  }
 },
 "nbformat": 4,
 "nbformat_minor": 2
}
